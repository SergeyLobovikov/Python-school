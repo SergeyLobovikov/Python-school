{
  "nbformat": 4,
  "nbformat_minor": 0,
  "metadata": {
    "colab": {
      "provenance": [],
      "collapsed_sections": [
        "lydexSEngxDy"
      ],
      "toc_visible": true,
      "authorship_tag": "ABX9TyPoYxk1vMAgaYzFusatw7tt",
      "include_colab_link": true
    },
    "kernelspec": {
      "name": "python3",
      "display_name": "Python 3"
    },
    "language_info": {
      "name": "python"
    }
  },
  "cells": [
    {
      "cell_type": "markdown",
      "metadata": {
        "id": "view-in-github",
        "colab_type": "text"
      },
      "source": [
        "<a href=\"https://colab.research.google.com/github/SergeyLobovikov/Python-school/blob/main/Exercise_2023_06_01.ipynb\" target=\"_parent\"><img src=\"https://colab.research.google.com/assets/colab-badge.svg\" alt=\"Open In Colab\"/></a>"
      ]
    },
    {
      "cell_type": "markdown",
      "source": [
        "# Базовые структуры языка программирования Python"
      ],
      "metadata": {
        "id": "HUAjsY32gNc8"
      }
    },
    {
      "cell_type": "markdown",
      "source": [
        "## Операции над списками. Изменяемые объекты"
      ],
      "metadata": {
        "id": "lydexSEngxDy"
      }
    },
    {
      "cell_type": "code",
      "source": [
        "primes = [2, 3, 5, 7, 11, 13]\n",
        "primes"
      ],
      "metadata": {
        "colab": {
          "base_uri": "https://localhost:8080/"
        },
        "id": "7rC8L8vUsYVS",
        "outputId": "11af3312-e23f-456e-90f8-5d51e5682156"
      },
      "execution_count": null,
      "outputs": [
        {
          "output_type": "execute_result",
          "data": {
            "text/plain": [
              "[2, 3, 5, 7, 11, 13]"
            ]
          },
          "metadata": {},
          "execution_count": 4
        }
      ]
    },
    {
      "cell_type": "code",
      "source": [
        "primes = [2, 3, 5, 7, 11, 13]\n",
        "primes[-1]"
      ],
      "metadata": {
        "colab": {
          "base_uri": "https://localhost:8080/"
        },
        "id": "OskIwdxDt8bB",
        "outputId": "d649dfc5-d684-487c-c679-7c1ae7108f1a"
      },
      "execution_count": null,
      "outputs": [
        {
          "output_type": "execute_result",
          "data": {
            "text/plain": [
              "13"
            ]
          },
          "metadata": {},
          "execution_count": 6
        }
      ]
    },
    {
      "cell_type": "code",
      "source": [
        "primes = [2, 3, 5, 7, 11, 13]\n",
        "primes[3:6]"
      ],
      "metadata": {
        "colab": {
          "base_uri": "https://localhost:8080/"
        },
        "id": "mFqrIiw3u3nB",
        "outputId": "c3015989-0eb4-47fc-8a79-f846be249d75"
      },
      "execution_count": null,
      "outputs": [
        {
          "output_type": "execute_result",
          "data": {
            "text/plain": [
              "[7, 11, 13]"
            ]
          },
          "metadata": {},
          "execution_count": 7
        }
      ]
    },
    {
      "cell_type": "code",
      "source": [
        "primes = [2, 3, 5, 7, 11, 13]\n",
        "primes[::2]"
      ],
      "metadata": {
        "colab": {
          "base_uri": "https://localhost:8080/"
        },
        "id": "RBEyNMbLvOCP",
        "outputId": "f601664d-17c1-4f86-f5cf-8077df367367"
      },
      "execution_count": null,
      "outputs": [
        {
          "output_type": "execute_result",
          "data": {
            "text/plain": [
              "[2, 5, 11]"
            ]
          },
          "metadata": {},
          "execution_count": 11
        }
      ]
    },
    {
      "cell_type": "code",
      "source": [
        "primes = [2, 3, 5, 7, 11, 13]\n",
        "primes[::-1]"
      ],
      "metadata": {
        "colab": {
          "base_uri": "https://localhost:8080/"
        },
        "id": "vcUoCKg3vr7Y",
        "outputId": "7478c926-b488-4df9-925d-8319fc882b6f"
      },
      "execution_count": null,
      "outputs": [
        {
          "output_type": "execute_result",
          "data": {
            "text/plain": [
              "[13, 11, 7, 5, 3, 2]"
            ]
          },
          "metadata": {},
          "execution_count": 12
        }
      ]
    },
    {
      "cell_type": "code",
      "source": [
        "primes = [2, 3, 5, 7, 11, 13]\n",
        "len(primes)"
      ],
      "metadata": {
        "colab": {
          "base_uri": "https://localhost:8080/"
        },
        "id": "aR_3txdhv-3l",
        "outputId": "14f43b4f-347e-4f50-92bb-2ee24c9f39e7"
      },
      "execution_count": null,
      "outputs": [
        {
          "output_type": "execute_result",
          "data": {
            "text/plain": [
              "6"
            ]
          },
          "metadata": {},
          "execution_count": 13
        }
      ]
    },
    {
      "cell_type": "code",
      "source": [
        "primes = [2, 3, 5, 7, 11, 13]\n",
        "primes.append(15)\n",
        "print(primes)"
      ],
      "metadata": {
        "colab": {
          "base_uri": "https://localhost:8080/"
        },
        "id": "nW046rf6wPLx",
        "outputId": "b10fe539-30db-49ed-9d75-33f871f5fa30"
      },
      "execution_count": null,
      "outputs": [
        {
          "output_type": "stream",
          "name": "stdout",
          "text": [
            "[2, 3, 5, 7, 11, 13, 15]\n"
          ]
        }
      ]
    },
    {
      "cell_type": "code",
      "source": [
        "primes = [2, 3, 5, 7, 11, 13]\n",
        "primes.extend([17, 21, 23])\n",
        "primes.insert(0, 1)\n",
        "print(primes)"
      ],
      "metadata": {
        "colab": {
          "base_uri": "https://localhost:8080/"
        },
        "id": "6qUWBfitw_oE",
        "outputId": "f8201f1f-82fc-4d97-a557-9814992ab18b"
      },
      "execution_count": null,
      "outputs": [
        {
          "output_type": "stream",
          "name": "stdout",
          "text": [
            "[1, 2, 3, 5, 7, 11, 13, 17, 21, 23]\n"
          ]
        }
      ]
    },
    {
      "cell_type": "code",
      "source": [
        "primes = [2, 3, 5, 7, 11, 13]\n",
        "primes[-1] = 15\n",
        "print(primes)"
      ],
      "metadata": {
        "colab": {
          "base_uri": "https://localhost:8080/"
        },
        "id": "YjA4aZvGxy2_",
        "outputId": "a550a516-5d7b-4b38-d348-96ea422a69dc"
      },
      "execution_count": null,
      "outputs": [
        {
          "output_type": "stream",
          "name": "stdout",
          "text": [
            "[2, 3, 5, 7, 11, 15]\n"
          ]
        }
      ]
    },
    {
      "cell_type": "code",
      "source": [
        "primes = [1, 2, 3, 5, 7, 11, 13, 17, 21, 23]\n",
        "primes.remove(1)\n",
        "print(primes)"
      ],
      "metadata": {
        "colab": {
          "base_uri": "https://localhost:8080/"
        },
        "id": "nTefKqXAyyvU",
        "outputId": "fa28d465-2c87-4ee6-bfd8-344d49758965"
      },
      "execution_count": null,
      "outputs": [
        {
          "output_type": "stream",
          "name": "stdout",
          "text": [
            "[2, 3, 5, 7, 11, 13, 17, 21, 23]\n"
          ]
        }
      ]
    },
    {
      "cell_type": "code",
      "source": [
        "primes = [1, 2, 3, 5, 7, 11, 13, 17, 21, 23]\n",
        "del primes[3:6]\n",
        "print(primes)"
      ],
      "metadata": {
        "colab": {
          "base_uri": "https://localhost:8080/"
        },
        "id": "MaIdPLi1zb9D",
        "outputId": "2cd4e3f9-2ca5-4e2c-e066-1670aff27bb9"
      },
      "execution_count": null,
      "outputs": [
        {
          "output_type": "stream",
          "name": "stdout",
          "text": [
            "[1, 2, 3, 13, 17, 21, 23]\n"
          ]
        }
      ]
    },
    {
      "cell_type": "code",
      "source": [
        "primes = [1, 2, 3, 5, 7, 11, 13, 17, 21, 23]\n",
        "primes += [25, 27, 29]\n",
        "print(primes)"
      ],
      "metadata": {
        "colab": {
          "base_uri": "https://localhost:8080/"
        },
        "id": "Lw6qve1An-v-",
        "outputId": "48897958-35ee-4c1e-e061-cb6f4257a875"
      },
      "execution_count": null,
      "outputs": [
        {
          "output_type": "stream",
          "name": "stdout",
          "text": [
            "[1, 2, 3, 5, 7, 11, 13, 17, 21, 23, 25, 27, 29]\n"
          ]
        }
      ]
    },
    {
      "cell_type": "code",
      "source": [
        "primes = [1, 2, 3, 5, 7, 11, 13, 17, 21, 23]\n",
        "primes *= 2\n",
        "print(primes)"
      ],
      "metadata": {
        "colab": {
          "base_uri": "https://localhost:8080/"
        },
        "outputId": "69e69978-6788-4f70-f4f5-3bf7ecedc3a5",
        "id": "DF3guHmpo8mM"
      },
      "execution_count": null,
      "outputs": [
        {
          "output_type": "stream",
          "name": "stdout",
          "text": [
            "[1, 2, 3, 5, 7, 11, 13, 17, 21, 23, 1, 2, 3, 5, 7, 11, 13, 17, 21, 23]\n"
          ]
        }
      ]
    },
    {
      "cell_type": "code",
      "source": [
        "primes.count(3)"
      ],
      "metadata": {
        "colab": {
          "base_uri": "https://localhost:8080/"
        },
        "id": "9RC9dhUEs994",
        "outputId": "835ce32e-6f69-437c-dc5b-799f4d2e5b13"
      },
      "execution_count": null,
      "outputs": [
        {
          "output_type": "execute_result",
          "data": {
            "text/plain": [
              "2"
            ]
          },
          "metadata": {},
          "execution_count": 19
        }
      ]
    },
    {
      "cell_type": "code",
      "source": [
        "primes.sort()\n",
        "print(primes)"
      ],
      "metadata": {
        "colab": {
          "base_uri": "https://localhost:8080/"
        },
        "id": "lySu5bQFuLOF",
        "outputId": "70b7cff9-fc97-4baf-de74-4bc70a6c979d"
      },
      "execution_count": null,
      "outputs": [
        {
          "output_type": "stream",
          "name": "stdout",
          "text": [
            "[1, 1, 2, 2, 3, 3, 5, 5, 7, 7, 11, 11, 13, 13, 17, 17, 21, 21, 23, 23]\n"
          ]
        }
      ]
    },
    {
      "cell_type": "code",
      "source": [
        "primes = [1, 2, 3, 5, 7, 11, 13, 17, 21, 23, 1, 2, 3, 5, 7, 11, 13, 17, 21, 23]\n",
        "primes.reverse()\n",
        "print(primes)"
      ],
      "metadata": {
        "colab": {
          "base_uri": "https://localhost:8080/"
        },
        "id": "267nOG0YuqNO",
        "outputId": "41905377-7b1e-44ef-a40e-25b6ec59799a"
      },
      "execution_count": null,
      "outputs": [
        {
          "output_type": "stream",
          "name": "stdout",
          "text": [
            "[23, 21, 17, 13, 11, 7, 5, 3, 2, 1, 23, 21, 17, 13, 11, 7, 5, 3, 2, 1]\n"
          ]
        }
      ]
    },
    {
      "cell_type": "code",
      "source": [
        "gradient = [[1, 2], [3, 4], [5, 6]]\n",
        "gradient[0][0]"
      ],
      "metadata": {
        "colab": {
          "base_uri": "https://localhost:8080/"
        },
        "id": "b57Ks1Gqpn7H",
        "outputId": "386de120-88d4-481a-e231-86621f21bf6c"
      },
      "execution_count": null,
      "outputs": [
        {
          "output_type": "execute_result",
          "data": {
            "text/plain": [
              "1"
            ]
          },
          "metadata": {},
          "execution_count": 10
        }
      ]
    },
    {
      "cell_type": "code",
      "source": [
        "list(range(0, 5))"
      ],
      "metadata": {
        "colab": {
          "base_uri": "https://localhost:8080/"
        },
        "id": "EQX7mqC9rHJN",
        "outputId": "7f9da88c-46a3-4bbb-e153-ff2270a4fe0b"
      },
      "execution_count": null,
      "outputs": [
        {
          "output_type": "execute_result",
          "data": {
            "text/plain": [
              "[0, 1, 2, 3, 4]"
            ]
          },
          "metadata": {},
          "execution_count": 14
        }
      ]
    },
    {
      "cell_type": "code",
      "source": [
        "list(range(100, 200, 50))"
      ],
      "metadata": {
        "colab": {
          "base_uri": "https://localhost:8080/"
        },
        "id": "1EqawbCNrrdT",
        "outputId": "a393620b-db31-4b69-c9f6-641afec2ae3b"
      },
      "execution_count": null,
      "outputs": [
        {
          "output_type": "execute_result",
          "data": {
            "text/plain": [
              "[100, 150]"
            ]
          },
          "metadata": {},
          "execution_count": 15
        }
      ]
    },
    {
      "cell_type": "code",
      "source": [
        "primes.index(5, 0, 5)"
      ],
      "metadata": {
        "colab": {
          "base_uri": "https://localhost:8080/"
        },
        "id": "V9J-KLWlr9A-",
        "outputId": "d13ff4ab-144b-44ee-edd0-f1f12add6e38"
      },
      "execution_count": null,
      "outputs": [
        {
          "output_type": "execute_result",
          "data": {
            "text/plain": [
              "3"
            ]
          },
          "metadata": {},
          "execution_count": 18
        }
      ]
    },
    {
      "cell_type": "code",
      "source": [
        "basket = ['apple', 'banana', 'orange']\n",
        "','.join(basket)"
      ],
      "metadata": {
        "colab": {
          "base_uri": "https://localhost:8080/",
          "height": 35
        },
        "id": "sj_QnFbIwKjz",
        "outputId": "21482cf0-d8ee-4e91-e5ee-f6b85043533f"
      },
      "execution_count": null,
      "outputs": [
        {
          "output_type": "execute_result",
          "data": {
            "text/plain": [
              "'apple,banana,orange'"
            ],
            "application/vnd.google.colaboratory.intrinsic+json": {
              "type": "string"
            }
          },
          "metadata": {},
          "execution_count": 31
        }
      ]
    },
    {
      "cell_type": "markdown",
      "source": [
        "Занятие 01-06-2023 раздел 5. Задача 1"
      ],
      "metadata": {
        "id": "SFI76qvEyRy-"
      }
    },
    {
      "cell_type": "code",
      "source": [
        "shop_list = ['Картофель', 'Горошек', 'Рис', 'Хлеб']\n",
        "fruits = ['Яблоко', 'Апельсин', 'Клубника']\n",
        "shop_list.insert(2, 'Рыба')\n",
        "print(shop_list)"
      ],
      "metadata": {
        "id": "9S8xIzRoywM5",
        "colab": {
          "base_uri": "https://localhost:8080/"
        },
        "outputId": "c766d98f-34be-4dad-ae5b-df7e3a5266c8"
      },
      "execution_count": null,
      "outputs": [
        {
          "output_type": "stream",
          "name": "stdout",
          "text": [
            "['Картофель', 'Горошек', 'Рыба', 'Рис', 'Хлеб']\n"
          ]
        }
      ]
    },
    {
      "cell_type": "code",
      "source": [
        "shop_list = ['Картофель', 'Горошек', 'Рис', 'Хлеб']\n",
        "fruits = ['Яблоко', 'Апельсин', 'Клубника']\n",
        "shop_list += fruits\n",
        "print(shop_list)"
      ],
      "metadata": {
        "colab": {
          "base_uri": "https://localhost:8080/"
        },
        "id": "NQ9Uno6nRhS1",
        "outputId": "af48ce8d-3cf0-4db8-f846-4ba7ad606c21"
      },
      "execution_count": null,
      "outputs": [
        {
          "output_type": "stream",
          "name": "stdout",
          "text": [
            "['Картофель', 'Горошек', 'Рис', 'Хлеб', 'Яблоко', 'Апельсин', 'Клубника']\n"
          ]
        }
      ]
    },
    {
      "cell_type": "code",
      "source": [
        "shop_list = ['Картофель', 'Горошек', 'Рис', 'Хлеб']\n",
        "del shop_list[0]\n",
        "print(shop_list)"
      ],
      "metadata": {
        "colab": {
          "base_uri": "https://localhost:8080/"
        },
        "id": "kn9_pwPUR_zY",
        "outputId": "cd2de909-d498-4890-ff16-1ec2251901a4"
      },
      "execution_count": null,
      "outputs": [
        {
          "output_type": "stream",
          "name": "stdout",
          "text": [
            "['Горошек', 'Рис', 'Хлеб']\n"
          ]
        }
      ]
    },
    {
      "cell_type": "code",
      "source": [
        "shop_list = ['Картофель', 'Горошек', 'Рис', 'Хлеб', 'Яблоко', 'Апельсин', 'Клубника']\n",
        "# shop_list.index('Хлеб') + 1\n",
        "shop_list.index('Апельсин') + 1"
      ],
      "metadata": {
        "colab": {
          "base_uri": "https://localhost:8080/"
        },
        "id": "AUAakWjKWRTc",
        "outputId": "6437b812-d231-41a6-d670-c5437ce6beff"
      },
      "execution_count": null,
      "outputs": [
        {
          "output_type": "execute_result",
          "data": {
            "text/plain": [
              "6"
            ]
          },
          "metadata": {},
          "execution_count": 10
        }
      ]
    },
    {
      "cell_type": "markdown",
      "source": [
        "## Операции с кортежами. Неизменяемые объекты."
      ],
      "metadata": {
        "id": "ShqB5rbLhM7c"
      }
    },
    {
      "cell_type": "code",
      "source": [
        "nambers = (20, 30, 40)\n",
        "nambers += (50, 60)\n",
        "print(nambers)"
      ],
      "metadata": {
        "id": "dk9n49aLiBkX",
        "colab": {
          "base_uri": "https://localhost:8080/"
        },
        "outputId": "fd442e1f-9c99-480d-ba78-22a31cbad29b"
      },
      "execution_count": 1,
      "outputs": [
        {
          "output_type": "stream",
          "name": "stdout",
          "text": [
            "(20, 30, 40, 50, 60)\n"
          ]
        }
      ]
    },
    {
      "cell_type": "code",
      "source": [
        "(x, y, z) = 1, 2, 3\n",
        "print(x, y, z)"
      ],
      "metadata": {
        "colab": {
          "base_uri": "https://localhost:8080/"
        },
        "id": "AuIz-hY43oOk",
        "outputId": "014fa73f-608a-45c5-e0cc-8ceff8ff6803"
      },
      "execution_count": 2,
      "outputs": [
        {
          "output_type": "stream",
          "name": "stdout",
          "text": [
            "1 2 3\n"
          ]
        }
      ]
    },
    {
      "cell_type": "code",
      "source": [
        "a = 5\n",
        "b = 8\n",
        "(a, b) = (b, a)\n",
        "print(\"a:\", a, \"\\nb:\", b)"
      ],
      "metadata": {
        "colab": {
          "base_uri": "https://localhost:8080/"
        },
        "id": "EKI05UTQ4Zt-",
        "outputId": "72c727e4-8f14-4c41-f122-b71b30730e9a"
      },
      "execution_count": 7,
      "outputs": [
        {
          "output_type": "stream",
          "name": "stdout",
          "text": [
            "a: 8 \n",
            "b: 5\n"
          ]
        }
      ]
    }
  ]
}