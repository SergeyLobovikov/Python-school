{
  "nbformat": 4,
  "nbformat_minor": 0,
  "metadata": {
    "colab": {
      "provenance": [],
      "toc_visible": true,
      "authorship_tag": "ABX9TyNOyRcXP6AZ/dAWWoM+pO1T",
      "include_colab_link": true
    },
    "kernelspec": {
      "name": "python3",
      "display_name": "Python 3"
    },
    "language_info": {
      "name": "python"
    }
  },
  "cells": [
    {
      "cell_type": "markdown",
      "metadata": {
        "id": "view-in-github",
        "colab_type": "text"
      },
      "source": [
        "<a href=\"https://colab.research.google.com/github/SergeyLobovikov/Python-school/blob/main/%D0%94%D0%BE%D0%BC%D0%B0%D1%88%D0%BD%D0%B5%D0%B5_%D0%B7%D0%B0%D0%B4%D0%B0%D0%BD%D0%B8%D0%B5.ipynb\" target=\"_parent\"><img src=\"https://colab.research.google.com/assets/colab-badge.svg\" alt=\"Open In Colab\"/></a>"
      ]
    },
    {
      "cell_type": "markdown",
      "source": [
        "# lvl_1"
      ],
      "metadata": {
        "id": "1WgmpQJ1PBxv"
      }
    },
    {
      "cell_type": "code",
      "source": [
        "# Задача 1.1.\n",
        "\n",
        "# Есть строка с перечислением песен\n",
        "\n",
        "my_favorite_songs = 'Waste a Moment, Staying\\' Alive, A Sorta Fairytale, Start Me Up, New Salvation'\n",
        "\n",
        "# Выведите на консоль с помощью индексации строки, последовательно: первый трек, последний, второй, второй с конца\n",
        "# Нельзя переопределять my_favorite_songs и запятая не должна выводиться.\n",
        "a = my_favorite_songs.split(',')\n",
        "print('\\n'.join(a[:2] + a[3:]))"
      ],
      "metadata": {
        "id": "-nRxUyLfTsZQ",
        "colab": {
          "base_uri": "https://localhost:8080/"
        },
        "outputId": "bfaf6912-a029-4e18-9b8d-8f1c791472b6"
      },
      "execution_count": null,
      "outputs": [
        {
          "output_type": "stream",
          "name": "stdout",
          "text": [
            "Waste a Moment\n",
            " Staying' Alive\n",
            " Start Me Up\n",
            " New Salvation\n"
          ]
        }
      ]
    },
    {
      "cell_type": "code",
      "source": [
        "# Задача 1.2.\n",
        "\n",
        "# Пункт A.\n",
        "# Приведем плейлист песен в виде списка списков\n",
        "# Список my_favorite_songs содержит список названий и длительности каждого трека\n",
        "# Выведите общее время звучания трех случайных песен в формате\n",
        "# Три песни звучат ХХХ минут\n",
        "\n",
        "import random\n",
        "\n",
        "my_favorite_songs = [\n",
        "    ['Waste a Moment', 3.03],\n",
        "    ['New Salvation', 4.02],\n",
        "    ['Staying\\' Alive', 3.40],\n",
        "    ['Out of Touch', 3.03],\n",
        "    ['A Sorta Fairytale', 5.28],\n",
        "    ['Easy', 4.15],\n",
        "    ['Beautiful Day', 4.04],\n",
        "    ['Nowhere to Run', 2.58],\n",
        "    ['In This World', 4.02],\n",
        "]\n",
        "\n",
        "# Пункт B.\n",
        "# Есть словарь песен\n",
        "# Распечатайте общее время звучания трех случайных песен\n",
        "# Вывод: Три песни звучат ХХХ минут.\n",
        "\n",
        "my_favorite_songs_dict = {\n",
        "    'Waste a Moment': 3.03,\n",
        "    'New Salvation': 4.02,\n",
        "    'Staying\\' Alive': 3.40,\n",
        "    'Out of Touch': 3.03,\n",
        "    'A Sorta Fairytale': 5.28,\n",
        "    'Easy': 4.15,\n",
        "    'Beautiful Day': 4.04,\n",
        "    'Nowhere to Run': 2.58,\n",
        "    'In This World': 4.02,\n",
        "}\n",
        "\n",
        "# Дополнительно для пунктов A и B\n",
        "# Пункт C.\n",
        "# Сгенерируйте случайные песни с помощью модуля random\n",
        "# import random\n",
        "\n",
        "# Дополнительно\n",
        "# Пункт D.\n",
        "# Переведите минуты и секунды в формат времени. Используйте модуль datetime\n"
      ],
      "metadata": {
        "id": "xlWNSdI5VD3G"
      },
      "execution_count": null,
      "outputs": []
    },
    {
      "cell_type": "code",
      "source": [
        "# Пункт A.\n",
        "# Приведем плейлист песен в виде списка списков\n",
        "# Список my_favorite_songs содержит список названий и длительности каждого трека\n",
        "# Выведите общее время звучания трех случайных песен в формате\n",
        "# Три песни звучат ХХХ минут\n",
        "\n",
        "import random\n",
        "\n",
        "my_favorite_songs = [\n",
        "    ['Waste a Moment', 3.03],\n",
        "    ['New Salvation', 4.02],\n",
        "    ['Staying\\' Alive', 3.40],\n",
        "    ['Out of Touch', 3.03],\n",
        "    ['A Sorta Fairytale', 5.28],\n",
        "    ['Easy', 4.15],\n",
        "    ['Beautiful Day', 4.04],\n",
        "    ['Nowhere to Run', 2.58],\n",
        "    ['In This World', 4.02],\n",
        "]\n",
        "\n",
        "lst = random.sample (my_favorite_songs, 3)\n",
        "songs_time = (lst[0][1]+lst[1][1]+lst[2][1])\n",
        "print(f'Три песни звучат', {songs_time}, 'минут')\n"
      ],
      "metadata": {
        "colab": {
          "base_uri": "https://localhost:8080/"
        },
        "id": "4Fd9z7cOzgnn",
        "outputId": "a942b1da-b73d-4579-f156-246e19854630"
      },
      "execution_count": null,
      "outputs": [
        {
          "output_type": "stream",
          "name": "stdout",
          "text": [
            "Три песни звучат {11.2} минут\n"
          ]
        }
      ]
    },
    {
      "cell_type": "code",
      "source": [
        "# Пункт B.\n",
        "# Есть словарь песен\n",
        "# Распечатайте общее время звучания трех случайных песен\n",
        "# Вывод: Три песни звучат ХХХ минут.\n",
        "\n",
        "import random\n",
        "\n",
        "my_favorite_songs_dict = {\n",
        "    'Waste a Moment': 3.03,\n",
        "    'New Salvation': 4.02,\n",
        "    'Staying\\' Alive': 3.40,\n",
        "    'Out of Touch': 3.03,\n",
        "    'A Sorta Fairytale': 5.28,\n",
        "    'Easy': 4.15,\n",
        "    'Beautiful Day': 4.04,\n",
        "    'Nowhere to Run': 2.58,\n",
        "    'In This World': 4.02,\n",
        "}\n",
        "\n",
        "data = list(my_favorite_songs_dict.items())\n",
        "lst = random.sample (data, 3)\n",
        "songs_time = (lst[0][1]+lst[1][1]+lst[2][1])\n",
        "print(songs_time)"
      ],
      "metadata": {
        "colab": {
          "base_uri": "https://localhost:8080/"
        },
        "id": "0QMzo1IDX_8r",
        "outputId": "21064a70-dac7-496c-d616-6e3b3c6f6127"
      },
      "execution_count": null,
      "outputs": [
        {
          "output_type": "stream",
          "name": "stdout",
          "text": [
            "11.44\n"
          ]
        }
      ]
    },
    {
      "cell_type": "code",
      "source": [
        "# Пункт C.\n",
        "# Сгенерируйте случайные песни с помощью модуля random\n",
        "# import random\n",
        "\n",
        "import random\n",
        "\n",
        "my_favorite_songs_dict = {\n",
        "    'Waste a Moment': 3.03,\n",
        "    'New Salvation': 4.02,\n",
        "    'Staying\\' Alive': 3.40,\n",
        "    'Out of Touch': 3.03,\n",
        "    'A Sorta Fairytale': 5.28,\n",
        "    'Easy': 4.15,\n",
        "    'Beautiful Day': 4.04,\n",
        "    'Nowhere to Run': 2.58,\n",
        "    'In This World': 4.02,\n",
        "}\n",
        "\n",
        "date1 = list(my_favorite_songs_dict.keys())\n",
        "lst1 = random.sample (date1, 3)\n",
        "\n",
        "print(lst1)"
      ],
      "metadata": {
        "colab": {
          "base_uri": "https://localhost:8080/"
        },
        "id": "B1feMYEB3_RD",
        "outputId": "21941779-b763-4c31-b338-12cf0cacc538"
      },
      "execution_count": null,
      "outputs": [
        {
          "output_type": "stream",
          "name": "stdout",
          "text": [
            "['Nowhere to Run', 'Beautiful Day', \"Staying' Alive\"]\n"
          ]
        }
      ]
    },
    {
      "cell_type": "code",
      "source": [
        "# Задача 1.3.\n",
        "\n",
        "# Напишите скрипт, который принимает от пользователя номер месяца,\n",
        "# а возвращает количество дней в нем.\n",
        "# Результат проверки вывести на консоль\n",
        "# Допущение: в феврале 28 дней\n",
        "# Если номер месяца некорректен - сообщить об этом\n",
        "\n",
        "# Например,\n",
        "    # Введите номер месяца: 3\n",
        "    # Вы ввели март. 31 дней\n",
        "\n",
        "    # Введите номер месяца: 2\n",
        "    # Вы ввели февраль. 28 дней\n",
        "\n",
        "    # Введите номер месяца: 15\n",
        "    # Такого месяца нет!\n",
        "\n",
        "cal = {\n",
        "    1 : 'январь 31 день',\n",
        "    2 : 'февраль 28 дней',\n",
        "    3 : 'март 31 день',\n",
        "    4 : 'апрель 30 дней',\n",
        "    5 : 'май 31 день',\n",
        "    6 : 'июнь 30 дней',\n",
        "    7 : 'июль 30 дней',\n",
        "    8 : 'август 31 день',\n",
        "    9 : 'сентябрь 30 дней',\n",
        "    10 : 'октябрь 31 день',\n",
        "    11 : 'ноябрь 30 дней',\n",
        "    12 : 'декабрь 31 день',\n",
        "}\n",
        "\n",
        "question = input('Введите номер месяца: ')\n",
        "a = int(question)\n",
        "if 0 < a < 13:\n",
        "  print('Вы ввели:', cal[a])\n",
        "else:\n",
        "  print('Такого месяца нет в календаре.')\n"
      ],
      "metadata": {
        "id": "Vl4ghE4FVPFV",
        "colab": {
          "base_uri": "https://localhost:8080/"
        },
        "outputId": "c629cb79-d666-463b-db90-05013990ad51"
      },
      "execution_count": null,
      "outputs": [
        {
          "output_type": "stream",
          "name": "stdout",
          "text": [
            "Введите номер месяца: 3\n",
            "Вы ввели: март 31 день\n"
          ]
        }
      ]
    },
    {
      "cell_type": "code",
      "source": [
        "# Задача 1.4.\n",
        "\n",
        "# Есть словарь кодов товаров titles\n",
        "\n",
        "titles = {\n",
        "    'Кроссовки тип 3 (Adidas)': '100000110',\n",
        "    'Мячик тип 2 (Adidas)': '100000146',\n",
        "    'Кепка тип 1 (Adidas)': '100000149',\n",
        "    'Ремень тип 2 (Nike)': '100000194',\n",
        "    'Футболка тип 1 (Adidas)': '100000224',\n",
        "    'Шапка тип 5 (Puma)': '100000280',\n",
        "}\n",
        "\n",
        "# Товары находятся на складе и сохранены в виде словаря списков словарей,\n",
        "# которые отражают количество товаров в магазине по каждому коду.\n",
        "\n",
        "store = {\n",
        "    '100000110': [{'quantity': 31, 'price': 1637}],\n",
        "    '100000146': [{'quantity': 4, 'price': 45}, {'quantity': 10, 'price': 48}],\n",
        "    '100000149': [{'quantity': 28, 'price': 279}, {'quantity': 32, 'price': 291}],\n",
        "    '100000194': [{'quantity': 8, 'price': 220}, {'quantity': 1, 'price': 170}],\n",
        "    '100000224': [{'quantity': 61, 'price': 438}, {'quantity': 23, 'price': 302},  {'quantity': 50, 'price': 412}],\n",
        "    '100000280': [{'quantity': 26, 'price': 175}]\n",
        "}\n",
        "\n",
        "# Рассчитайте на какую сумму лежит каждого товара на складе.\n",
        "#\n",
        "# Вывести суммарную стоимость каждого товара в магазине в формате:\n",
        "# \"<товар> - <кол-во> шт, стоимость <общая стоимость> руб\"\n",
        "\n",
        "# Пример: \"Кроссовки тип 3 (Adidas) - 31 шт, стоимость 50747 руб\"\n",
        "\n",
        "# for key, value in store.items():\n",
        "    # print(f\"код: {key}  товар: {value} \")\n"
      ],
      "metadata": {
        "id": "SJgRSYHOVWpX"
      },
      "execution_count": null,
      "outputs": []
    }
  ]
}